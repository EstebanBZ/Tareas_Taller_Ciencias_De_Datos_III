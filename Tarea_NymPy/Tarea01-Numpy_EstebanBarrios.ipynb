{
 "cells": [
  {
   "cell_type": "markdown",
   "id": "43cd5b32",
   "metadata": {},
   "source": [
    "# Tarea 01 - Numpy"
   ]
  },
  {
   "cell_type": "code",
   "execution_count": 1,
   "id": "20614872-b193-4c78-bbd0-3819d899b4b0",
   "metadata": {},
   "outputs": [],
   "source": [
    "import numpy as np"
   ]
  },
  {
   "cell_type": "markdown",
   "id": "0ad7da2d",
   "metadata": {},
   "source": [
    "<h3> Completa los siguientes ejercicios. Documente su código según sea necesario. 10 puntos cada ejercicio</h3>\n",
    "<br>\n",
    "\n",
    "<ol>\n",
    "<li><font size=3> Cree un Numpy Array de 5 por 7 de números enteros aleatorios con valores entre 3 y 11 inclusive. Luego haz lo siguiente:\n",
    "     <ol> <li>Verifique el tipo de datos del array</li>\n",
    "         <li>Encuentre el máximo de todo el array</li>\n",
    "         <li>Encuentre el valor mínimo de cada fila</li>\n",
    "         <li>Encuentre el índice donde ocurre el valor mínimo de cada fila</li>\n",
    "     </ol></font></li>\n",
    "</ol>"
   ]
  },
  {
   "cell_type": "code",
   "execution_count": 2,
   "id": "88eab7ee-7b51-44de-b7cb-7a7706c03a02",
   "metadata": {},
   "outputs": [
    {
     "name": "stdout",
     "output_type": "stream",
     "text": [
      "[[ 9 11  9  9  8 10  9]\n",
      " [ 8 10  5  8  9  8  4]\n",
      " [11  5  6 11  4 10  3]\n",
      " [ 8  9 10 10 10 10  7]\n",
      " [ 4  7  6  5  3  4  7]]\n"
     ]
    }
   ],
   "source": [
    "uno = np.random.randint(low=3, high=12, size=(5, 7))\n",
    "print(uno)"
   ]
  },
  {
   "cell_type": "code",
   "execution_count": 3,
   "id": "aa8dff4c-364f-4630-b8ec-f9afe3ca9e5a",
   "metadata": {},
   "outputs": [
    {
     "name": "stdout",
     "output_type": "stream",
     "text": [
      "El tipo de dato de todo el array es:  int64\n"
     ]
    }
   ],
   "source": [
    "uno_a = uno.dtype\n",
    "print(\"El tipo de dato de todo el array es: \",uno_a)"
   ]
  },
  {
   "cell_type": "code",
   "execution_count": 4,
   "id": "8195df24-70b6-46cd-bea9-52b724710e37",
   "metadata": {},
   "outputs": [
    {
     "name": "stdout",
     "output_type": "stream",
     "text": [
      "El valor minimo del array es:  11\n"
     ]
    }
   ],
   "source": [
    "uno_b = np.max(uno)\n",
    "print(\"El valor minimo del array es: \",uno_b)"
   ]
  },
  {
   "cell_type": "code",
   "execution_count": 5,
   "id": "f15d86f8-6443-406e-8422-b1be6b740417",
   "metadata": {},
   "outputs": [
    {
     "name": "stdout",
     "output_type": "stream",
     "text": [
      "Los valores mínimos de cada fila son: [8, 4, 3, 7, 3]\n"
     ]
    }
   ],
   "source": [
    "min_valor = []\n",
    "\n",
    "for fila in uno:\n",
    "    min_fila = np.amin(fila)\n",
    "    min_valor.append(min_fila)\n",
    "\n",
    "print(\"Los valores mínimos de cada fila son:\", min_valor)"
   ]
  },
  {
   "cell_type": "markdown",
   "id": "3c88eced",
   "metadata": {},
   "source": [
    "<ol start='2'>\n",
    "   \n",
    "<li> <font size='3'>Ingrese el código a continuación que genera el siguiente numpy array: </font></li>\n",
    "\n",
    "```python\n",
    "#Resultado\n",
    "array([ 4, 9, 14, 19, 24, 29, 34, 39, 44, 49, 54, 59, 64, 69, 74, 79, 84, 89, 94, 99])\n",
    "```\n",
    "</ol>"
   ]
  },
  {
   "cell_type": "code",
   "execution_count": 6,
   "id": "ca268d48-ee8e-46a9-84fd-4f5701f38694",
   "metadata": {},
   "outputs": [
    {
     "name": "stdout",
     "output_type": "stream",
     "text": [
      "[ 4  9 14 19 24 29 34 39 44 49 54 59 64 69 74 79 84 89 94 99]\n"
     ]
    }
   ],
   "source": [
    "dos = np.arange(4, 100, 5)\n",
    "print(dos)"
   ]
  },
  {
   "cell_type": "markdown",
   "id": "e3c4f668",
   "metadata": {},
   "source": [
    "<ol start='3'>\n",
    "   \n",
    "<li> <font size='3'>Ingrese el código a continuación que genera el siguiente numpy array: </font></li>\n",
    "\n",
    "```python\n",
    "#Result\n",
    "array([[ 4,  9, 14, 19, 24],\n",
    "       [29, 34, 39, 44, 49],\n",
    "       [54, 59, 64, 69, 74],\n",
    "       [79, 84, 89, 94, 99]])\n",
    "```    \n",
    "</ol>"
   ]
  },
  {
   "cell_type": "code",
   "execution_count": 7,
   "id": "d7ad0431-3705-4949-8996-58c04180381a",
   "metadata": {},
   "outputs": [
    {
     "name": "stdout",
     "output_type": "stream",
     "text": [
      "[[ 4  9 14 19 24]\n",
      " [29 34 39 44 49]\n",
      " [54 59 64 69 74]\n",
      " [79 84 89 94 99]]\n"
     ]
    }
   ],
   "source": [
    "tres = np.reshape(dos, (4, 5))\n",
    "print(tres)"
   ]
  },
  {
   "cell_type": "markdown",
   "id": "3d6430af",
   "metadata": {},
   "source": [
    "<ol start='4'>\n",
    "   \n",
    "<li> <font size='3'>Cree un numpy array de 4 por 2 por 3 con valores normalmente distribuido</font></li>\n",
    "   \n",
    "</ol>"
   ]
  },
  {
   "cell_type": "code",
   "execution_count": 8,
   "id": "38a56401-bf81-472e-968f-46214759319c",
   "metadata": {},
   "outputs": [
    {
     "name": "stdout",
     "output_type": "stream",
     "text": [
      "[[[ 1.18503106  1.04402558 -1.16699578]\n",
      "  [ 0.22702005  0.88401388 -0.92880358]]\n",
      "\n",
      " [[-0.18214268 -0.72393146  0.05168563]\n",
      "  [ 1.049079   -0.37118993  0.24382878]]\n",
      "\n",
      " [[ 0.04447967 -1.11775748  0.39065136]\n",
      "  [-0.6781087   1.52915821 -0.4370555 ]]\n",
      "\n",
      " [[-0.47666714 -1.18092988  1.89529266]\n",
      "  [-0.3648956   1.40851745  0.35234402]]]\n"
     ]
    }
   ],
   "source": [
    "cuatro = np.random.normal(loc=0.0, scale=1.0, size=(4, 2, 3))\n",
    "print(cuatro)"
   ]
  },
  {
   "cell_type": "markdown",
   "id": "c642fc02",
   "metadata": {},
   "source": [
    "<ol start='5'>\n",
    "   \n",
    "<li> <font size='3'>Ingrese el código a continuación que genera el siguiente numpy array (incluyendo el tipo correcto de datos): </font></li>\n",
    "\n",
    "```python\n",
    "#Result\n",
    "array([[0, 0, 0, 0, 0, 0],\n",
    "       [0, 0, 0, 0, 0, 0],\n",
    "       [1, 0, 0, 0, 0, 0],\n",
    "       [0, 1, 0, 0, 0, 0],\n",
    "       [0, 0, 1, 0, 0, 0],\n",
    "       [0, 0, 0, 1, 0, 0]]\n",
    "```    \n",
    "\n",
    "</ol>"
   ]
  },
  {
   "cell_type": "code",
   "execution_count": 9,
   "id": "104c623d-de87-462f-8731-475e145ea919",
   "metadata": {},
   "outputs": [
    {
     "name": "stdout",
     "output_type": "stream",
     "text": [
      "[[0 0 0 0 0 0]\n",
      " [1 0 0 0 0 0]\n",
      " [0 1 0 0 0 0]\n",
      " [0 0 1 0 0 0]\n",
      " [0 0 0 1 0 0]\n",
      " [0 0 0 0 1 0]]\n"
     ]
    }
   ],
   "source": [
    "cinco = np.eye(6, 6, k=-1, dtype=int)\n",
    "print(cinco)"
   ]
  },
  {
   "cell_type": "markdown",
   "id": "3d509a54",
   "metadata": {},
   "source": [
    "<ol start='6'>\n",
    "   \n",
    "<li> <font size='3'>Dado el numpy array </font></li>\n",
    "\n",
    "```python\n",
    "array([ 3,  5,  7,  9, 11, 13, 15, 17, 19, 21, 23, 25, 27, 29, 31, 33])\n",
    "```    \n",
    "<ol>\n",
    "    <li>Ingrese el código que selccione sólo los últimos 4 elementos:</li>\n",
    "\n",
    "```python\n",
    "#Result\n",
    "array([27, 29, 31, 33])\n",
    "```\n",
    "<li>Ingrese el código que selecciones el siguiente subarray:\n",
    "\n",
    "```python\n",
    "#Result\n",
    "array([ 3,  9, 15, 21, 27, 33])\n",
    "```\n",
    "</ol>\n",
    "</ol>"
   ]
  },
  {
   "cell_type": "code",
   "execution_count": 10,
   "id": "b436db1f-c99f-4a1e-baaf-8610a878812f",
   "metadata": {},
   "outputs": [
    {
     "name": "stdout",
     "output_type": "stream",
     "text": [
      "[27 29 31 33]\n"
     ]
    }
   ],
   "source": [
    "array_ = np.array([3, 5, 7, 9, 11, 13, 15, 17, 19, 21, 23, 25, 27, 29, 31, 33])\n",
    "seis_a = array_[-4:]\n",
    "print(seis_a)"
   ]
  },
  {
   "cell_type": "code",
   "execution_count": 11,
   "id": "4383f35c-dd76-4200-bbf8-0af764cc1b3d",
   "metadata": {},
   "outputs": [
    {
     "name": "stdout",
     "output_type": "stream",
     "text": [
      "[ 3  9 15 21 27 33]\n"
     ]
    }
   ],
   "source": [
    "seis_b = array_[::3]\n",
    "print(seis_b)"
   ]
  },
  {
   "cell_type": "markdown",
   "id": "89a2de1b",
   "metadata": {},
   "source": [
    "<ol start='7'>\n",
    "   \n",
    "<li> <font size='3'>Dado el numpy array en 2D </font></li>\n",
    "\n",
    "```python\n",
    "arr_2d=np.array([[69, 75, 52, 33,  7, 62, 22],\n",
    "               [87, 51, 13, 75, 78, 46, 53],\n",
    "               [43, 24, 58, 76,  3,  3, 57],\n",
    "               [84, 86, 75, 26, 71, 77,  7],\n",
    "               [75, 17, 17, 38, 54, 72, 78]])\n",
    "```    \n",
    "<ol>\n",
    "    <li> Ingrese el código que seleccione el elemento 72 en la última fila</li>\n",
    "    <br>\n",
    "   <li> Ingrese el código que seleccione el siguiente subarray:</li>\n",
    "\n",
    "```python\n",
    "#Result\n",
    "array([[76,  3],\n",
    "       [26, 71],\n",
    "       [38, 54]])\n",
    "```\n",
    "<li>Ingrese el código que seleccione el siguiente subarray:\n",
    "\n",
    "```python\n",
    "#Result\n",
    "array([[87, 51, 13, 75, 78, 46, 53],\n",
    "       [43, 24, 58, 76,  3,  3, 57],\n",
    "       [84, 86, 75, 26, 71, 77,  7]])\n",
    "```\n",
    "</ol>\n",
    "</ol>"
   ]
  },
  {
   "cell_type": "code",
   "execution_count": 12,
   "id": "6e15a556-b826-4f8c-8aec-41ab62a0c071",
   "metadata": {},
   "outputs": [
    {
     "name": "stdout",
     "output_type": "stream",
     "text": [
      "72\n",
      "72\n"
     ]
    }
   ],
   "source": [
    "arr_2d = np.array([[69, 75, 52, 33,  7, 62, 22],\n",
    "                   [87, 51, 13, 75, 78, 46, 53],\n",
    "                   [43, 24, 58, 76,  3,  3, 57],\n",
    "                   [84, 86, 75, 26, 71, 77,  7],\n",
    "                   [75, 17, 17, 38, 54, 72, 78]])\n",
    "\n",
    "siete_a = arr_2d[4, 5]\n",
    "siete_a2 = arr_2d[-1, -2]\n",
    "\n",
    "print(siete_a)\n",
    "print(siete_a2)"
   ]
  },
  {
   "cell_type": "code",
   "execution_count": 13,
   "id": "19ebf4c3-e32d-43f7-8bcd-4ef6bfc3b04b",
   "metadata": {},
   "outputs": [
    {
     "name": "stdout",
     "output_type": "stream",
     "text": [
      "[[76  3]\n",
      " [26 71]\n",
      " [38 54]]\n"
     ]
    }
   ],
   "source": [
    "siete_b = arr_2d[2:5, 3:5]\n",
    "print(siete_b)"
   ]
  },
  {
   "cell_type": "code",
   "execution_count": 14,
   "id": "f6ba8e14-850c-4158-be31-688b6ace696d",
   "metadata": {},
   "outputs": [
    {
     "name": "stdout",
     "output_type": "stream",
     "text": [
      "[[87 51 13 75 78 46 53]\n",
      " [43 24 58 76  3  3 57]\n",
      " [84 86 75 26 71 77  7]]\n"
     ]
    }
   ],
   "source": [
    "siete_c = arr_2d[1:4, :]\n",
    "print(siete_c)"
   ]
  },
  {
   "cell_type": "markdown",
   "id": "c9676eaa",
   "metadata": {},
   "source": [
    "<ol start='8'>\n",
    "   \n",
    "<li> <font size='3'>Dado el numpy array</font></li>\n",
    "\n",
    "```python\n",
    "arr=np.arange(1,50,3)\n",
    "array([ 1,  4,  7, 10, 13, 16, 19, 22, 25, 28, 31, 34, 37, 40, 43, 46, 49])\n",
    "```    \n",
    "<ol>\n",
    "    <li>Ingrese el código que seleccione todos los elementos más grandes que 7 y menores que 43:\n",
    "\n",
    "```python\n",
    "#Result\n",
    "array([10, 13, 16, 19, 22, 25, 28, 31, 34, 37, 40])\n",
    "\n",
    "```\n",
    "   <li>Ingrese el código que selecciona todos los enteros pares más grandes que 11 y menores que 45:</li>\n",
    "\n",
    "```python\n",
    "#Result\n",
    "array([16, 22, 28, 34, 40])\n",
    "```\n",
    "</ol>\n",
    "</ol>"
   ]
  },
  {
   "cell_type": "code",
   "execution_count": 15,
   "id": "41a5048d-3bf8-4aca-9bda-8765ed61eb1c",
   "metadata": {},
   "outputs": [
    {
     "name": "stdout",
     "output_type": "stream",
     "text": [
      "[10 13 16 19 22 25 28 31 34 37 40]\n"
     ]
    }
   ],
   "source": [
    "arr = np.arange(1, 50, 3)\n",
    "ocho_a = arr[(arr > 7) & (arr < 43)]\n",
    "print(ocho_a)"
   ]
  },
  {
   "cell_type": "code",
   "execution_count": 16,
   "id": "63c07e12-5a8a-4e25-b798-0e0a96bdbb1e",
   "metadata": {},
   "outputs": [
    {
     "name": "stdout",
     "output_type": "stream",
     "text": [
      "[16 22 28 34 40]\n"
     ]
    }
   ],
   "source": [
    "ocho_b = arr[np.logical_and(arr > 11, arr < 45) & (arr % 2 == 0)]\n",
    "print(ocho_b)"
   ]
  },
  {
   "cell_type": "markdown",
   "id": "3fb4ffd6",
   "metadata": {},
   "source": [
    "<ol start='9'>\n",
    "   \n",
    "<li> <font size='3'>Cree un 1D array uniformemente distribuido con 20 elementos y calcule: </font></li>\n",
    "\n",
    "\n",
    "<ol>\n",
    "    <li> Media</li>\n",
    "\n",
    "   <li>Deviación estándar</li>\n",
    "   \n",
    "   <li>Mediana</li>\n",
    "   \n",
    "   <li>Media de sus valores en log</li>\n",
    "</ol>\n",
    "</ol>"
   ]
  },
  {
   "cell_type": "code",
   "execution_count": 17,
   "id": "19e1747d-ff53-4880-b0c5-55cd0a602b92",
   "metadata": {},
   "outputs": [
    {
     "name": "stdout",
     "output_type": "stream",
     "text": [
      "[ 1  2  3  4  5  6  7  8  9 10 11 12 13 14 15 16 17 18 19 20]\n",
      "10.5\n"
     ]
    }
   ],
   "source": [
    "arreglo = np.arange(1, 21)\n",
    "print(arreglo)\n",
    "\n",
    "nueve_a = np.mean(arreglo)\n",
    "print(nueve_a)"
   ]
  },
  {
   "cell_type": "code",
   "execution_count": 18,
   "id": "c16f1705-80b8-4d0d-b7f3-e2e3c780204d",
   "metadata": {},
   "outputs": [
    {
     "name": "stdout",
     "output_type": "stream",
     "text": [
      "5.766281297335398\n"
     ]
    }
   ],
   "source": [
    "nueve_b = np.std(arreglo)\n",
    "print(nueve_b)"
   ]
  },
  {
   "cell_type": "code",
   "execution_count": 19,
   "id": "06c80ee5-3663-4dd5-870e-fb09dfc6eeff",
   "metadata": {},
   "outputs": [
    {
     "name": "stdout",
     "output_type": "stream",
     "text": [
      "10.5\n"
     ]
    }
   ],
   "source": [
    "nueve_c = np.median(arreglo)\n",
    "print(nueve_c)"
   ]
  },
  {
   "cell_type": "code",
   "execution_count": 20,
   "id": "291e2c8f-6224-4df1-9b50-2b1a54a2b702",
   "metadata": {},
   "outputs": [
    {
     "name": "stdout",
     "output_type": "stream",
     "text": [
      "2.1167808230376743\n"
     ]
    }
   ],
   "source": [
    "nueve_d = np.mean(np.log(arreglo))\n",
    "print(nueve_d)"
   ]
  },
  {
   "cell_type": "markdown",
   "id": "e1dc3942",
   "metadata": {},
   "source": [
    "<ol start='10'>\n",
    "   \n",
    "<li> <font size='3'>Escriba una función que:</font></li>\n",
    "    <ol>\n",
    "    <br>\n",
    "   <li> Tome un numpy array en 1D como input e imprima el arreglo invertido con elementos tipo flotantes</li>\n",
    "\n",
    "For ejemplo, si ingresas el siguiente array en tu función\n",
    "```python\n",
    "array([ 1,  3,  5,  7,  9, 11, 13, 15, 17, 19, 21, 23])\n",
    "```\n",
    "deberías imprimir\n",
    "\n",
    "```python\n",
    "array([23., 21., 19., 17., 15., 13., 11.,  9.,  7.,  5.,  3.,  1.])\n",
    "```\n",
    "\n",
    "<li> Tome un numpy array en 2D como input e imprima una copia del input array <b> flattened</b> a una dimensión </li>\n",
    "\n",
    "For ejemplo, si el input array es:\n",
    "```python\n",
    "array([[7, 4, 8, 3],\n",
    "       [6, 3, 4, 3],\n",
    "       [4, 7, 5, 4]])\n",
    "```\n",
    "el output de tu función debería ser\n",
    "```python\n",
    "array([7, 4, 8, 3, 6, 3, 4, 3, 4, 7, 5, 4])\n",
    "```\n",
    "</ol>\n",
    "</ol>"
   ]
  },
  {
   "cell_type": "code",
   "execution_count": 21,
   "id": "a7b6585b-9334-488c-b186-70d8ab13c316",
   "metadata": {},
   "outputs": [
    {
     "name": "stdout",
     "output_type": "stream",
     "text": [
      "[97. 91. 85. 79. 73. 67. 61. 55. 49. 43. 37. 31. 25. 19. 13.  7.  1.]\n"
     ]
    }
   ],
   "source": [
    "def invertir_arreglo(arr):\n",
    "    invertido = np.flip(arr)\n",
    "    flotante = invertido.astype(float)\n",
    "    return flotante\n",
    "    \n",
    "diez_a = np.arange(1, 100, 6)\n",
    "\n",
    "print(invertir_arreglo(diez_a))"
   ]
  },
  {
   "cell_type": "code",
   "execution_count": 22,
   "id": "7a563a90-bf3c-4324-88c1-5c567dbf6077",
   "metadata": {},
   "outputs": [
    {
     "name": "stdout",
     "output_type": "stream",
     "text": [
      "[ 1  2  3  4  5  6  7  8  9 10 11 12 13 14 15 16 17 18 19 20]\n"
     ]
    }
   ],
   "source": [
    "def unidimensionar(arr):\n",
    "    return arr.flatten()\n",
    "\n",
    "diez_b = np.array([[ 1,  2,  3,  4,  5],\n",
    "       [ 6,  7,  8,  9, 10],\n",
    "       [11, 12, 13, 14, 15],\n",
    "       [16, 17, 18, 19, 20]])\n",
    "\n",
    "print(unidimensionar(diez_b))"
   ]
  }
 ],
 "metadata": {
  "kernelspec": {
   "display_name": "Python 3 (ipykernel)",
   "language": "python",
   "name": "python3"
  },
  "language_info": {
   "codemirror_mode": {
    "name": "ipython",
    "version": 3
   },
   "file_extension": ".py",
   "mimetype": "text/x-python",
   "name": "python",
   "nbconvert_exporter": "python",
   "pygments_lexer": "ipython3",
   "version": "3.10.8"
  }
 },
 "nbformat": 4,
 "nbformat_minor": 5
}
